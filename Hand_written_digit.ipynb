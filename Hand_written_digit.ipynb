{
  "cells": [
    {
      "cell_type": "markdown",
      "id": "a60e28ed",
      "metadata": {
        "id": "a60e28ed",
        "papermill": {
          "duration": 0.013567,
          "end_time": "2023-06-01T17:58:28.477792",
          "exception": false,
          "start_time": "2023-06-01T17:58:28.464225",
          "status": "completed"
        },
        "tags": []
      },
      "source": [
        "## **Hand Written Digit Prediction - Classification Analysis**"
      ]
    },
    {
      "cell_type": "markdown",
      "id": "210e039d",
      "metadata": {
        "id": "210e039d",
        "papermill": {
          "duration": 0.010802,
          "end_time": "2023-06-01T17:58:28.500215",
          "exception": false,
          "start_time": "2023-06-01T17:58:28.489413",
          "status": "completed"
        },
        "tags": []
      },
      "source": [
        "**The digits dataset consist of 8x8 pixel images of digits. The images attribute of the dataset stores 8x8 arrays of grayscale values for each image. We will use these arrays to visualize the first 4 images. The target attribute of the dataset stores the digit each image repesents**"
      ]
    },
    {
      "cell_type": "markdown",
      "id": "c0a2834e",
      "metadata": {
        "id": "c0a2834e",
        "papermill": {
          "duration": 0.010358,
          "end_time": "2023-06-01T17:58:28.521472",
          "exception": false,
          "start_time": "2023-06-01T17:58:28.511114",
          "status": "completed"
        },
        "tags": []
      },
      "source": [
        "## **Import Library**"
      ]
    },
    {
      "cell_type": "code",
      "execution_count": null,
      "id": "b4b58520",
      "metadata": {
        "execution": {
          "iopub.execute_input": "2023-06-01T17:58:28.544898Z",
          "iopub.status.busy": "2023-06-01T17:58:28.544511Z",
          "iopub.status.idle": "2023-06-01T17:58:28.556039Z",
          "shell.execute_reply": "2023-06-01T17:58:28.555144Z"
        },
        "id": "b4b58520",
        "papermill": {
          "duration": 0.026286,
          "end_time": "2023-06-01T17:58:28.558555",
          "exception": false,
          "start_time": "2023-06-01T17:58:28.532269",
          "status": "completed"
        },
        "tags": []
      },
      "outputs": [],
      "source": [
        "import pandas as pd"
      ]
    },
    {
      "cell_type": "code",
      "execution_count": null,
      "id": "b877e30b",
      "metadata": {
        "execution": {
          "iopub.execute_input": "2023-06-01T17:58:28.582776Z",
          "iopub.status.busy": "2023-06-01T17:58:28.581859Z",
          "iopub.status.idle": "2023-06-01T17:58:28.586836Z",
          "shell.execute_reply": "2023-06-01T17:58:28.585616Z"
        },
        "id": "b877e30b",
        "papermill": {
          "duration": 0.01955,
          "end_time": "2023-06-01T17:58:28.589031",
          "exception": false,
          "start_time": "2023-06-01T17:58:28.569481",
          "status": "completed"
        },
        "tags": []
      },
      "outputs": [],
      "source": [
        "import numpy as np\n"
      ]
    },
    {
      "cell_type": "code",
      "execution_count": null,
      "id": "314dcecb",
      "metadata": {
        "execution": {
          "iopub.execute_input": "2023-06-01T17:58:28.618217Z",
          "iopub.status.busy": "2023-06-01T17:58:28.617525Z",
          "iopub.status.idle": "2023-06-01T17:58:28.622010Z",
          "shell.execute_reply": "2023-06-01T17:58:28.620881Z"
        },
        "id": "314dcecb",
        "papermill": {
          "duration": 0.022407,
          "end_time": "2023-06-01T17:58:28.626248",
          "exception": false,
          "start_time": "2023-06-01T17:58:28.603841",
          "status": "completed"
        },
        "tags": []
      },
      "outputs": [],
      "source": [
        "import matplotlib.pyplot as plt\n"
      ]
    },
    {
      "cell_type": "markdown",
      "id": "9f138601",
      "metadata": {
        "id": "9f138601",
        "papermill": {
          "duration": 0.012335,
          "end_time": "2023-06-01T17:58:28.653183",
          "exception": false,
          "start_time": "2023-06-01T17:58:28.640848",
          "status": "completed"
        },
        "tags": []
      },
      "source": [
        "## **Import Data**"
      ]
    },
    {
      "cell_type": "code",
      "execution_count": null,
      "id": "b3b32e4a",
      "metadata": {
        "execution": {
          "iopub.execute_input": "2023-06-01T17:58:28.683934Z",
          "iopub.status.busy": "2023-06-01T17:58:28.683513Z",
          "iopub.status.idle": "2023-06-01T17:58:29.928574Z",
          "shell.execute_reply": "2023-06-01T17:58:29.927631Z"
        },
        "id": "b3b32e4a",
        "papermill": {
          "duration": 1.265115,
          "end_time": "2023-06-01T17:58:29.931335",
          "exception": false,
          "start_time": "2023-06-01T17:58:28.666220",
          "status": "completed"
        },
        "tags": []
      },
      "outputs": [],
      "source": [
        "from sklearn.datasets import load_digits"
      ]
    },
    {
      "cell_type": "code",
      "execution_count": null,
      "id": "412d6209",
      "metadata": {
        "execution": {
          "iopub.execute_input": "2023-06-01T17:58:29.955848Z",
          "iopub.status.busy": "2023-06-01T17:58:29.955201Z",
          "iopub.status.idle": "2023-06-01T17:58:29.982858Z",
          "shell.execute_reply": "2023-06-01T17:58:29.982003Z"
        },
        "id": "412d6209",
        "papermill": {
          "duration": 0.04273,
          "end_time": "2023-06-01T17:58:29.985488",
          "exception": false,
          "start_time": "2023-06-01T17:58:29.942758",
          "status": "completed"
        },
        "tags": []
      },
      "outputs": [],
      "source": [
        "df = load_digits()"
      ]
    },
    {
      "cell_type": "code",
      "execution_count": null,
      "id": "70ca8430",
      "metadata": {
        "execution": {
          "iopub.execute_input": "2023-06-01T17:58:30.010569Z",
          "iopub.status.busy": "2023-06-01T17:58:30.009510Z",
          "iopub.status.idle": "2023-06-01T17:58:30.444120Z",
          "shell.execute_reply": "2023-06-01T17:58:30.442991Z"
        },
        "id": "70ca8430",
        "outputId": "c1b9864a-51e6-4249-9a96-841b6e73ff95",
        "papermill": {
          "duration": 0.45003,
          "end_time": "2023-06-01T17:58:30.446754",
          "exception": false,
          "start_time": "2023-06-01T17:58:29.996724",
          "status": "completed"
        },
        "tags": []
      },
      "outputs": [
        {
          "data": {
            "image/png": "[encoded data removed]",
            "text/plain": [
              "<Figure size 1000x300 with 4 Axes>"
            ]
          },
          "metadata": {},
          "output_type": "display_data"
        }
      ],
      "source": [
        "_, axes = plt.subplots(nrows=1, ncols =4, figsize=(10, 3))\n",
        "for ax, image, label in zip(axes, df.images, df.target):\n",
        "    ax.set_axis_off()\n",
        "    ax.imshow(image, cmap=plt.cm.gray_r, interpolation=\"nearest\")\n",
        "    ax.set_title(\"Training: %i\" % label)"
      ]
    },
    {
      "cell_type": "markdown",
      "id": "1ae47a2c",
      "metadata": {
        "id": "1ae47a2c",
        "papermill": {
          "duration": 0.011157,
          "end_time": "2023-06-01T17:58:30.469393",
          "exception": false,
          "start_time": "2023-06-01T17:58:30.458236",
          "status": "completed"
        },
        "tags": []
      },
      "source": [
        "## **Data Preprocessing**\n"
      ]
    },
    {
      "cell_type": "markdown",
      "id": "1f948444",
      "metadata": {
        "id": "1f948444",
        "papermill": {
          "duration": 0.011234,
          "end_time": "2023-06-01T17:58:30.492850",
          "exception": false,
          "start_time": "2023-06-01T17:58:30.481616",
          "status": "completed"
        },
        "tags": []
      },
      "source": [
        "**Flatten Image**"
      ]
    },
    {
      "cell_type": "code",
      "execution_count": null,
      "id": "83cf57a8",
      "metadata": {
        "execution": {
          "iopub.execute_input": "2023-06-01T17:58:30.518163Z",
          "iopub.status.busy": "2023-06-01T17:58:30.517501Z",
          "iopub.status.idle": "2023-06-01T17:58:30.523470Z",
          "shell.execute_reply": "2023-06-01T17:58:30.522446Z"
        },
        "id": "83cf57a8",
        "outputId": "a455f1ac-7bb5-4cfa-d532-8a89334d89e4",
        "papermill": {
          "duration": 0.020946,
          "end_time": "2023-06-01T17:58:30.525582",
          "exception": false,
          "start_time": "2023-06-01T17:58:30.504636",
          "status": "completed"
        },
        "tags": []
      },
      "outputs": [
        {
          "data": {
            "text/plain": [
              "(1797, 8, 8)"
            ]
          },
          "execution_count": 7,
          "metadata": {},
          "output_type": "execute_result"
        }
      ],
      "source": [
        "df.images.shape"
      ]
    },
    {
      "cell_type": "code",
      "execution_count": null,
      "id": "8c5af1a5",
      "metadata": {
        "execution": {
          "iopub.execute_input": "2023-06-01T17:58:30.551083Z",
          "iopub.status.busy": "2023-06-01T17:58:30.550344Z",
          "iopub.status.idle": "2023-06-01T17:58:30.557530Z",
          "shell.execute_reply": "2023-06-01T17:58:30.556489Z"
        },
        "id": "8c5af1a5",
        "outputId": "65d5f29d-76d4-482d-b64f-1e5975c20d6e",
        "papermill": {
          "duration": 0.022565,
          "end_time": "2023-06-01T17:58:30.559887",
          "exception": false,
          "start_time": "2023-06-01T17:58:30.537322",
          "status": "completed"
        },
        "tags": []
      },
      "outputs": [
        {
          "data": {
            "text/plain": [
              "array([[ 0.,  0.,  5., 13.,  9.,  1.,  0.,  0.],\n",
              "       [ 0.,  0., 13., 15., 10., 15.,  5.,  0.],\n",
              "       [ 0.,  3., 15.,  2.,  0., 11.,  8.,  0.],\n",
              "       [ 0.,  4., 12.,  0.,  0.,  8.,  8.,  0.],\n",
              "       [ 0.,  5.,  8.,  0.,  0.,  9.,  8.,  0.],\n",
              "       [ 0.,  4., 11.,  0.,  1., 12.,  7.,  0.],\n",
              "       [ 0.,  2., 14.,  5., 10., 12.,  0.,  0.],\n",
              "       [ 0.,  0.,  6., 13., 10.,  0.,  0.,  0.]])"
            ]
          },
          "execution_count": 8,
          "metadata": {},
          "output_type": "execute_result"
        }
      ],
      "source": [
        "df.images[0]"
      ]
    },
    {
      "cell_type": "code",
      "execution_count": null,
      "id": "f23f597d",
      "metadata": {
        "execution": {
          "iopub.execute_input": "2023-06-01T17:58:30.585118Z",
          "iopub.status.busy": "2023-06-01T17:58:30.584697Z",
          "iopub.status.idle": "2023-06-01T17:58:30.591750Z",
          "shell.execute_reply": "2023-06-01T17:58:30.590670Z"
        },
        "id": "f23f597d",
        "outputId": "e982c703-5e6c-4165-8ef4-f9c3ddf1b7e9",
        "papermill": {
          "duration": 0.022458,
          "end_time": "2023-06-01T17:58:30.594238",
          "exception": false,
          "start_time": "2023-06-01T17:58:30.571780",
          "status": "completed"
        },
        "tags": []
      },
      "outputs": [
        {
          "data": {
            "text/plain": [
              "(8, 8)"
            ]
          },
          "execution_count": 9,
          "metadata": {},
          "output_type": "execute_result"
        }
      ],
      "source": [
        "df.images[0].shape"
      ]
    },
    {
      "cell_type": "code",
      "execution_count": null,
      "id": "e8296d39",
      "metadata": {
        "execution": {
          "iopub.execute_input": "2023-06-01T17:58:30.620640Z",
          "iopub.status.busy": "2023-06-01T17:58:30.619828Z",
          "iopub.status.idle": "2023-06-01T17:58:30.626651Z",
          "shell.execute_reply": "2023-06-01T17:58:30.625675Z"
        },
        "id": "e8296d39",
        "outputId": "dc8819ab-06fb-4ac0-aedd-ca2987ecde18",
        "papermill": {
          "duration": 0.022608,
          "end_time": "2023-06-01T17:58:30.629015",
          "exception": false,
          "start_time": "2023-06-01T17:58:30.606407",
          "status": "completed"
        },
        "tags": []
      },
      "outputs": [
        {
          "data": {
            "text/plain": [
              "1797"
            ]
          },
          "execution_count": 10,
          "metadata": {},
          "output_type": "execute_result"
        }
      ],
      "source": [
        "len(df.images)"
      ]
    },
    {
      "cell_type": "code",
      "execution_count": null,
      "id": "8f281420",
      "metadata": {
        "execution": {
          "iopub.execute_input": "2023-06-01T17:58:30.656126Z",
          "iopub.status.busy": "2023-06-01T17:58:30.655354Z",
          "iopub.status.idle": "2023-06-01T17:58:30.660678Z",
          "shell.execute_reply": "2023-06-01T17:58:30.659920Z"
        },
        "id": "8f281420",
        "papermill": {
          "duration": 0.021341,
          "end_time": "2023-06-01T17:58:30.663009",
          "exception": false,
          "start_time": "2023-06-01T17:58:30.641668",
          "status": "completed"
        },
        "tags": []
      },
      "outputs": [],
      "source": [
        "n_samples = len(df.images)\n",
        "data = df.images.reshape((n_samples, -1))"
      ]
    },
    {
      "cell_type": "code",
      "execution_count": null,
      "id": "a16ec7b8",
      "metadata": {
        "execution": {
          "iopub.execute_input": "2023-06-01T17:58:30.689668Z",
          "iopub.status.busy": "2023-06-01T17:58:30.689059Z",
          "iopub.status.idle": "2023-06-01T17:58:30.696399Z",
          "shell.execute_reply": "2023-06-01T17:58:30.695358Z"
        },
        "id": "a16ec7b8",
        "outputId": "3d6e06d3-6265-4e09-815c-e3d46fcd26b5",
        "papermill": {
          "duration": 0.023303,
          "end_time": "2023-06-01T17:58:30.698567",
          "exception": false,
          "start_time": "2023-06-01T17:58:30.675264",
          "status": "completed"
        },
        "tags": []
      },
      "outputs": [
        {
          "data": {
            "text/plain": [
              "array([ 0.,  0.,  5., 13.,  9.,  1.,  0.,  0.,  0.,  0., 13., 15., 10.,\n",
              "       15.,  5.,  0.,  0.,  3., 15.,  2.,  0., 11.,  8.,  0.,  0.,  4.,\n",
              "       12.,  0.,  0.,  8.,  8.,  0.,  0.,  5.,  8.,  0.,  0.,  9.,  8.,\n",
              "        0.,  0.,  4., 11.,  0.,  1., 12.,  7.,  0.,  0.,  2., 14.,  5.,\n",
              "       10., 12.,  0.,  0.,  0.,  0.,  6., 13., 10.,  0.,  0.,  0.])"
            ]
          },
          "execution_count": 12,
          "metadata": {},
          "output_type": "execute_result"
        }
      ],
      "source": [
        "data[0]"
      ]
    },
    {
      "cell_type": "code",
      "execution_count": null,
      "id": "ba825131",
      "metadata": {
        "execution": {
          "iopub.execute_input": "2023-06-01T17:58:30.725824Z",
          "iopub.status.busy": "2023-06-01T17:58:30.725206Z",
          "iopub.status.idle": "2023-06-01T17:58:30.731764Z",
          "shell.execute_reply": "2023-06-01T17:58:30.730793Z"
        },
        "id": "ba825131",
        "outputId": "951b7d50-aee6-4099-be88-ffa226143238",
        "papermill": {
          "duration": 0.022867,
          "end_time": "2023-06-01T17:58:30.733965",
          "exception": false,
          "start_time": "2023-06-01T17:58:30.711098",
          "status": "completed"
        },
        "tags": []
      },
      "outputs": [
        {
          "data": {
            "text/plain": [
              "(64,)"
            ]
          },
          "execution_count": 13,
          "metadata": {},
          "output_type": "execute_result"
        }
      ],
      "source": [
        "data[0].shape"
      ]
    },
    {
      "cell_type": "code",
      "execution_count": null,
      "id": "b06920d5",
      "metadata": {
        "execution": {
          "iopub.execute_input": "2023-06-01T17:58:30.761463Z",
          "iopub.status.busy": "2023-06-01T17:58:30.760786Z",
          "iopub.status.idle": "2023-06-01T17:58:30.767172Z",
          "shell.execute_reply": "2023-06-01T17:58:30.766182Z"
        },
        "id": "b06920d5",
        "outputId": "934f5ecd-5765-4a54-fd9b-7ef14a98babc",
        "papermill": {
          "duration": 0.022691,
          "end_time": "2023-06-01T17:58:30.769313",
          "exception": false,
          "start_time": "2023-06-01T17:58:30.746622",
          "status": "completed"
        },
        "tags": []
      },
      "outputs": [
        {
          "data": {
            "text/plain": [
              "(1797, 64)"
            ]
          },
          "execution_count": 14,
          "metadata": {},
          "output_type": "execute_result"
        }
      ],
      "source": [
        "data.shape"
      ]
    },
    {
      "cell_type": "markdown",
      "id": "efef1c7a",
      "metadata": {
        "id": "efef1c7a",
        "papermill": {
          "duration": 0.012557,
          "end_time": "2023-06-01T17:58:30.794813",
          "exception": false,
          "start_time": "2023-06-01T17:58:30.782256",
          "status": "completed"
        },
        "tags": []
      },
      "source": [
        "## **Scaling Image Data**"
      ]
    },
    {
      "cell_type": "code",
      "execution_count": null,
      "id": "669626ec",
      "metadata": {
        "execution": {
          "iopub.execute_input": "2023-06-01T17:58:30.823267Z",
          "iopub.status.busy": "2023-06-01T17:58:30.822593Z",
          "iopub.status.idle": "2023-06-01T17:58:30.829708Z",
          "shell.execute_reply": "2023-06-01T17:58:30.828615Z"
        },
        "id": "669626ec",
        "outputId": "d285b72a-d392-475b-b2f7-1407ec4c0cbc",
        "papermill": {
          "duration": 0.023861,
          "end_time": "2023-06-01T17:58:30.832035",
          "exception": false,
          "start_time": "2023-06-01T17:58:30.808174",
          "status": "completed"
        },
        "tags": []
      },
      "outputs": [
        {
          "data": {
            "text/plain": [
              "0.0"
            ]
          },
          "execution_count": 15,
          "metadata": {},
          "output_type": "execute_result"
        }
      ],
      "source": [
        "data.min()"
      ]
    },
    {
      "cell_type": "code",
      "execution_count": null,
      "id": "53baec50",
      "metadata": {
        "execution": {
          "iopub.execute_input": "2023-06-01T17:58:30.860832Z",
          "iopub.status.busy": "2023-06-01T17:58:30.859727Z",
          "iopub.status.idle": "2023-06-01T17:58:30.867268Z",
          "shell.execute_reply": "2023-06-01T17:58:30.866241Z"
        },
        "id": "53baec50",
        "outputId": "05453db3-6be5-4eb1-eab0-7cdc0bd4beb8",
        "papermill": {
          "duration": 0.024128,
          "end_time": "2023-06-01T17:58:30.869438",
          "exception": false,
          "start_time": "2023-06-01T17:58:30.845310",
          "status": "completed"
        },
        "tags": []
      },
      "outputs": [
        {
          "data": {
            "text/plain": [
              "16.0"
            ]
          },
          "execution_count": 16,
          "metadata": {},
          "output_type": "execute_result"
        }
      ],
      "source": [
        "data.max()"
      ]
    },
    {
      "cell_type": "code",
      "execution_count": null,
      "id": "e1474f36",
      "metadata": {
        "execution": {
          "iopub.execute_input": "2023-06-01T17:58:30.898522Z",
          "iopub.status.busy": "2023-06-01T17:58:30.897469Z",
          "iopub.status.idle": "2023-06-01T17:58:30.902881Z",
          "shell.execute_reply": "2023-06-01T17:58:30.902134Z"
        },
        "id": "e1474f36",
        "papermill": {
          "duration": 0.022189,
          "end_time": "2023-06-01T17:58:30.905045",
          "exception": false,
          "start_time": "2023-06-01T17:58:30.882856",
          "status": "completed"
        },
        "tags": []
      },
      "outputs": [],
      "source": [
        "data = data/16"
      ]
    },
    {
      "cell_type": "code",
      "execution_count": null,
      "id": "a987d55e",
      "metadata": {
        "execution": {
          "iopub.execute_input": "2023-06-01T17:58:30.933590Z",
          "iopub.status.busy": "2023-06-01T17:58:30.933216Z",
          "iopub.status.idle": "2023-06-01T17:58:30.939161Z",
          "shell.execute_reply": "2023-06-01T17:58:30.938454Z"
        },
        "id": "a987d55e",
        "outputId": "b0330d5a-05d3-4dda-e270-18898f691a99",
        "papermill": {
          "duration": 0.022637,
          "end_time": "2023-06-01T17:58:30.941182",
          "exception": false,
          "start_time": "2023-06-01T17:58:30.918545",
          "status": "completed"
        },
        "tags": []
      },
      "outputs": [
        {
          "data": {
            "text/plain": [
              "0.0"
            ]
          },
          "execution_count": 18,
          "metadata": {},
          "output_type": "execute_result"
        }
      ],
      "source": [
        "data.min()"
      ]
    },
    {
      "cell_type": "code",
      "execution_count": null,
      "id": "90aaf842",
      "metadata": {
        "execution": {
          "iopub.execute_input": "2023-06-01T17:58:30.970134Z",
          "iopub.status.busy": "2023-06-01T17:58:30.969428Z",
          "iopub.status.idle": "2023-06-01T17:58:30.975976Z",
          "shell.execute_reply": "2023-06-01T17:58:30.974962Z"
        },
        "id": "90aaf842",
        "outputId": "92f291fb-8899-45d4-df36-ea92f90e70be",
        "papermill": {
          "duration": 0.02346,
          "end_time": "2023-06-01T17:58:30.978224",
          "exception": false,
          "start_time": "2023-06-01T17:58:30.954764",
          "status": "completed"
        },
        "tags": []
      },
      "outputs": [
        {
          "data": {
            "text/plain": [
              "1.0"
            ]
          },
          "execution_count": 19,
          "metadata": {},
          "output_type": "execute_result"
        }
      ],
      "source": [
        "data.max()"
      ]
    },
    {
      "cell_type": "code",
      "execution_count": null,
      "id": "910f40fc",
      "metadata": {
        "execution": {
          "iopub.execute_input": "2023-06-01T17:58:31.007802Z",
          "iopub.status.busy": "2023-06-01T17:58:31.007072Z",
          "iopub.status.idle": "2023-06-01T17:58:31.013638Z",
          "shell.execute_reply": "2023-06-01T17:58:31.012878Z"
        },
        "id": "910f40fc",
        "outputId": "2e74e8a2-23b0-4864-ff2a-662ab9260b96",
        "papermill": {
          "duration": 0.023919,
          "end_time": "2023-06-01T17:58:31.015776",
          "exception": false,
          "start_time": "2023-06-01T17:58:30.991857",
          "status": "completed"
        },
        "tags": []
      },
      "outputs": [
        {
          "data": {
            "text/plain": [
              "array([0.    , 0.    , 0.3125, 0.8125, 0.5625, 0.0625, 0.    , 0.    ,\n",
              "       0.    , 0.    , 0.8125, 0.9375, 0.625 , 0.9375, 0.3125, 0.    ,\n",
              "       0.    , 0.1875, 0.9375, 0.125 , 0.    , 0.6875, 0.5   , 0.    ,\n",
              "       0.    , 0.25  , 0.75  , 0.    , 0.    , 0.5   , 0.5   , 0.    ,\n",
              "       0.    , 0.3125, 0.5   , 0.    , 0.    , 0.5625, 0.5   , 0.    ,\n",
              "       0.    , 0.25  , 0.6875, 0.    , 0.0625, 0.75  , 0.4375, 0.    ,\n",
              "       0.    , 0.125 , 0.875 , 0.3125, 0.625 , 0.75  , 0.    , 0.    ,\n",
              "       0.    , 0.    , 0.375 , 0.8125, 0.625 , 0.    , 0.    , 0.    ])"
            ]
          },
          "execution_count": 20,
          "metadata": {},
          "output_type": "execute_result"
        }
      ],
      "source": [
        "data[0]"
      ]
    },
    {
      "cell_type": "markdown",
      "id": "bf7a1e58",
      "metadata": {
        "id": "bf7a1e58",
        "papermill": {
          "duration": 0.013716,
          "end_time": "2023-06-01T17:58:31.043706",
          "exception": false,
          "start_time": "2023-06-01T17:58:31.029990",
          "status": "completed"
        },
        "tags": []
      },
      "source": [
        "##**Train Test Split Data**"
      ]
    },
    {
      "cell_type": "code",
      "execution_count": null,
      "id": "40c23599",
      "metadata": {
        "execution": {
          "iopub.execute_input": "2023-06-01T17:58:31.073465Z",
          "iopub.status.busy": "2023-06-01T17:58:31.073056Z",
          "iopub.status.idle": "2023-06-01T17:58:31.176280Z",
          "shell.execute_reply": "2023-06-01T17:58:31.174771Z"
        },
        "id": "40c23599",
        "papermill": {
          "duration": 0.121326,
          "end_time": "2023-06-01T17:58:31.179111",
          "exception": false,
          "start_time": "2023-06-01T17:58:31.057785",
          "status": "completed"
        },
        "tags": []
      },
      "outputs": [],
      "source": [
        "from sklearn.model_selection import train_test_split"
      ]
    },
    {
      "cell_type": "code",
      "execution_count": null,
      "id": "1653b5d0",
      "metadata": {
        "execution": {
          "iopub.execute_input": "2023-06-01T17:58:31.209800Z",
          "iopub.status.busy": "2023-06-01T17:58:31.208777Z",
          "iopub.status.idle": "2023-06-01T17:58:31.215435Z",
          "shell.execute_reply": "2023-06-01T17:58:31.214365Z"
        },
        "id": "1653b5d0",
        "papermill": {
          "duration": 0.024584,
          "end_time": "2023-06-01T17:58:31.217824",
          "exception": false,
          "start_time": "2023-06-01T17:58:31.193240",
          "status": "completed"
        },
        "tags": []
      },
      "outputs": [],
      "source": [
        "X_train, X_test, y_train, y_test = train_test_split(data, df.target, test_size=0.3)"
      ]
    },
    {
      "cell_type": "code",
      "execution_count": null,
      "id": "26a5b6cc",
      "metadata": {
        "execution": {
          "iopub.execute_input": "2023-06-01T17:58:31.248635Z",
          "iopub.status.busy": "2023-06-01T17:58:31.248224Z",
          "iopub.status.idle": "2023-06-01T17:58:31.255268Z",
          "shell.execute_reply": "2023-06-01T17:58:31.254269Z"
        },
        "id": "26a5b6cc",
        "outputId": "536210c3-b6cb-4ddd-bafa-5a20c2427677",
        "papermill": {
          "duration": 0.025225,
          "end_time": "2023-06-01T17:58:31.257647",
          "exception": false,
          "start_time": "2023-06-01T17:58:31.232422",
          "status": "completed"
        },
        "tags": []
      },
      "outputs": [
        {
          "data": {
            "text/plain": [
              "((1257, 64), (540, 64), (1257,), (540,))"
            ]
          },
          "execution_count": 23,
          "metadata": {},
          "output_type": "execute_result"
        }
      ],
      "source": [
        "X_train.shape, X_test.shape, y_train.shape, y_test.shape"
      ]
    },
    {
      "cell_type": "markdown",
      "id": "63e86b5b",
      "metadata": {
        "id": "63e86b5b",
        "papermill": {
          "duration": 0.014238,
          "end_time": "2023-06-01T17:58:31.286436",
          "exception": false,
          "start_time": "2023-06-01T17:58:31.272198",
          "status": "completed"
        },
        "tags": []
      },
      "source": [
        "## **Random Forest Model**"
      ]
    },
    {
      "cell_type": "code",
      "execution_count": null,
      "id": "7b311178",
      "metadata": {
        "execution": {
          "iopub.execute_input": "2023-06-01T17:58:31.317589Z",
          "iopub.status.busy": "2023-06-01T17:58:31.317203Z",
          "iopub.status.idle": "2023-06-01T17:58:31.697502Z",
          "shell.execute_reply": "2023-06-01T17:58:31.696443Z"
        },
        "id": "7b311178",
        "papermill": {
          "duration": 0.398881,
          "end_time": "2023-06-01T17:58:31.700264",
          "exception": false,
          "start_time": "2023-06-01T17:58:31.301383",
          "status": "completed"
        },
        "tags": []
      },
      "outputs": [],
      "source": [
        "from sklearn.ensemble import RandomForestClassifier"
      ]
    },
    {
      "cell_type": "code",
      "execution_count": null,
      "id": "83cb4d8e",
      "metadata": {
        "execution": {
          "iopub.execute_input": "2023-06-01T17:58:31.732291Z",
          "iopub.status.busy": "2023-06-01T17:58:31.731536Z",
          "iopub.status.idle": "2023-06-01T17:58:31.736565Z",
          "shell.execute_reply": "2023-06-01T17:58:31.735468Z"
        },
        "id": "83cb4d8e",
        "papermill": {
          "duration": 0.023261,
          "end_time": "2023-06-01T17:58:31.738636",
          "exception": false,
          "start_time": "2023-06-01T17:58:31.715375",
          "status": "completed"
        },
        "tags": []
      },
      "outputs": [],
      "source": [
        "rf = RandomForestClassifier()"
      ]
    },
    {
      "cell_type": "code",
      "execution_count": null,
      "id": "ed917501",
      "metadata": {
        "execution": {
          "iopub.execute_input": "2023-06-01T17:58:31.769593Z",
          "iopub.status.busy": "2023-06-01T17:58:31.769185Z",
          "iopub.status.idle": "2023-06-01T17:58:32.230717Z",
          "shell.execute_reply": "2023-06-01T17:58:32.229603Z"
        },
        "id": "ed917501",
        "outputId": "abba7af8-7380-4e59-a6ff-ae2af9fc106a",
        "papermill": {
          "duration": 0.480203,
          "end_time": "2023-06-01T17:58:32.233519",
          "exception": false,
          "start_time": "2023-06-01T17:58:31.753316",
          "status": "completed"
        },
        "tags": []
      },
      "outputs": [
        {
          "data": {
            "text/html": [
              "<style>#sk-container-id-1 {color: black;background-color: white;}#sk-container-id-1 pre{padding: 0;}#sk-container-id-1 div.sk-toggleable {background-color: white;}#sk-container-id-1 label.sk-toggleable__label {cursor: pointer;display: block;width: 100%;margin-bottom: 0;padding: 0.3em;box-sizing: border-box;text-align: center;}#sk-container-id-1 label.sk-toggleable__label-arrow:before {content: \"▸\";float: left;margin-right: 0.25em;color: #696969;}#sk-container-id-1 label.sk-toggleable__label-arrow:hover:before {color: black;}#sk-container-id-1 div.sk-estimator:hover label.sk-toggleable__label-arrow:before {color: black;}#sk-container-id-1 div.sk-toggleable__content {max-height: 0;max-width: 0;overflow: hidden;text-align: left;background-color: #f0f8ff;}#sk-container-id-1 div.sk-toggleable__content pre {margin: 0.2em;color: black;border-radius: 0.25em;background-color: #f0f8ff;}#sk-container-id-1 input.sk-toggleable__control:checked~div.sk-toggleable__content {max-height: 200px;max-width: 100%;overflow: auto;}#sk-container-id-1 input.sk-toggleable__control:checked~label.sk-toggleable__label-arrow:before {content: \"▾\";}#sk-container-id-1 div.sk-estimator input.sk-toggleable__control:checked~label.sk-toggleable__label {background-color: #d4ebff;}#sk-container-id-1 div.sk-label input.sk-toggleable__control:checked~label.sk-toggleable__label {background-color: #d4ebff;}#sk-container-id-1 input.sk-hidden--visually {border: 0;clip: rect(1px 1px 1px 1px);clip: rect(1px, 1px, 1px, 1px);height: 1px;margin: -1px;overflow: hidden;padding: 0;position: absolute;width: 1px;}#sk-container-id-1 div.sk-estimator {font-family: monospace;background-color: #f0f8ff;border: 1px dotted black;border-radius: 0.25em;box-sizing: border-box;margin-bottom: 0.5em;}#sk-container-id-1 div.sk-estimator:hover {background-color: #d4ebff;}#sk-container-id-1 div.sk-parallel-item::after {content: \"\";width: 100%;border-bottom: 1px solid gray;flex-grow: 1;}#sk-container-id-1 div.sk-label:hover label.sk-toggleable__label {background-color: #d4ebff;}#sk-container-id-1 div.sk-serial::before {content: \"\";position: absolute;border-left: 1px solid gray;box-sizing: border-box;top: 0;bottom: 0;left: 50%;z-index: 0;}#sk-container-id-1 div.sk-serial {display: flex;flex-direction: column;align-items: center;background-color: white;padding-right: 0.2em;padding-left: 0.2em;position: relative;}#sk-container-id-1 div.sk-item {position: relative;z-index: 1;}#sk-container-id-1 div.sk-parallel {display: flex;align-items: stretch;justify-content: center;background-color: white;position: relative;}#sk-container-id-1 div.sk-item::before, #sk-container-id-1 div.sk-parallel-item::before {content: \"\";position: absolute;border-left: 1px solid gray;box-sizing: border-box;top: 0;bottom: 0;left: 50%;z-index: -1;}#sk-container-id-1 div.sk-parallel-item {display: flex;flex-direction: column;z-index: 1;position: relative;background-color: white;}#sk-container-id-1 div.sk-parallel-item:first-child::after {align-self: flex-end;width: 50%;}#sk-container-id-1 div.sk-parallel-item:last-child::after {align-self: flex-start;width: 50%;}#sk-container-id-1 div.sk-parallel-item:only-child::after {width: 0;}#sk-container-id-1 div.sk-dashed-wrapped {border: 1px dashed gray;margin: 0 0.4em 0.5em 0.4em;box-sizing: border-box;padding-bottom: 0.4em;background-color: white;}#sk-container-id-1 div.sk-label label {font-family: monospace;font-weight: bold;display: inline-block;line-height: 1.2em;}#sk-container-id-1 div.sk-label-container {text-align: center;}#sk-container-id-1 div.sk-container {/* jupyter's `normalize.less` sets `[hidden] { display: none; }` but bootstrap.min.css set `[hidden] { display: none !important; }` so we also need the `!important` here to be able to override the default hidden behavior on the sphinx rendered scikit-learn.org. See: https://github.com/scikit-learn/scikit-learn/issues/21755 */display: inline-block !important;position: relative;}#sk-container-id-1 div.sk-text-repr-fallback {display: none;}</style><div id=\"sk-container-id-1\" class=\"sk-top-container\"><div class=\"sk-text-repr-fallback\"><pre>RandomForestClassifier()</pre><b>In a Jupyter environment, please rerun this cell to show the HTML representation or trust the notebook. <br />On GitHub, the HTML representation is unable to render, please try loading this page with nbviewer.org.</b></div><div class=\"sk-container\" hidden><div class=\"sk-item\"><div class=\"sk-estimator sk-toggleable\"><input class=\"sk-toggleable__control sk-hidden--visually\" id=\"sk-estimator-id-1\" type=\"checkbox\" checked><label for=\"sk-estimator-id-1\" class=\"sk-toggleable__label sk-toggleable__label-arrow\">RandomForestClassifier</label><div class=\"sk-toggleable__content\"><pre>RandomForestClassifier()</pre></div></div></div></div></div>"
            ],
            "text/plain": [
              "RandomForestClassifier()"
            ]
          },
          "execution_count": 26,
          "metadata": {},
          "output_type": "execute_result"
        }
      ],
      "source": [
        "rf.fit(X_train, y_train)"
      ]
    },
    {
      "cell_type": "markdown",
      "id": "42a1aba1",
      "metadata": {
        "id": "42a1aba1",
        "papermill": {
          "duration": 0.014682,
          "end_time": "2023-06-01T17:58:32.263628",
          "exception": false,
          "start_time": "2023-06-01T17:58:32.248946",
          "status": "completed"
        },
        "tags": []
      },
      "source": [
        "## **Predict Test Data**"
      ]
    },
    {
      "cell_type": "code",
      "execution_count": null,
      "id": "bbb55d32",
      "metadata": {
        "execution": {
          "iopub.execute_input": "2023-06-01T17:58:32.295882Z",
          "iopub.status.busy": "2023-06-01T17:58:32.295171Z",
          "iopub.status.idle": "2023-06-01T17:58:32.324257Z",
          "shell.execute_reply": "2023-06-01T17:58:32.323066Z"
        },
        "id": "bbb55d32",
        "papermill": {
          "duration": 0.048451,
          "end_time": "2023-06-01T17:58:32.327117",
          "exception": false,
          "start_time": "2023-06-01T17:58:32.278666",
          "status": "completed"
        },
        "tags": []
      },
      "outputs": [],
      "source": [
        "y_pred = rf.predict(X_test)"
      ]
    },
    {
      "cell_type": "code",
      "execution_count": null,
      "id": "1c1ca487",
      "metadata": {
        "execution": {
          "iopub.execute_input": "2023-06-01T17:58:32.359254Z",
          "iopub.status.busy": "2023-06-01T17:58:32.358811Z",
          "iopub.status.idle": "2023-06-01T17:58:32.368313Z",
          "shell.execute_reply": "2023-06-01T17:58:32.367276Z"
        },
        "id": "1c1ca487",
        "outputId": "2893a646-338b-43e9-b892-0d3436f6afd6",
        "papermill": {
          "duration": 0.028219,
          "end_time": "2023-06-01T17:58:32.370499",
          "exception": false,
          "start_time": "2023-06-01T17:58:32.342280",
          "status": "completed"
        },
        "tags": []
      },
      "outputs": [
        {
          "data": {
            "text/plain": [
              "array([2, 4, 1, 2, 5, 0, 9, 9, 1, 5, 7, 2, 2, 2, 8, 2, 1, 1, 1, 9, 6, 8,\n",
              "       1, 6, 9, 8, 8, 7, 4, 5, 1, 4, 6, 9, 7, 6, 5, 5, 9, 7, 1, 0, 1, 4,\n",
              "       5, 0, 3, 0, 1, 0, 9, 9, 9, 8, 0, 3, 1, 3, 8, 4, 4, 9, 9, 5, 3, 1,\n",
              "       9, 7, 4, 2, 5, 1, 2, 9, 3, 8, 9, 9, 5, 7, 7, 4, 5, 0, 6, 3, 4, 5,\n",
              "       3, 3, 7, 3, 6, 6, 6, 1, 2, 8, 0, 8, 5, 5, 5, 3, 9, 8, 1, 3, 0, 9,\n",
              "       0, 7, 6, 2, 1, 7, 5, 9, 4, 5, 7, 2, 0, 8, 3, 6, 1, 0, 0, 8, 7, 1,\n",
              "       2, 5, 5, 8, 0, 2, 1, 0, 0, 3, 7, 1, 1, 8, 3, 7, 0, 2, 4, 0, 7, 3,\n",
              "       2, 4, 2, 4, 9, 0, 6, 0, 9, 6, 5, 6, 3, 8, 7, 8, 8, 1, 2, 9, 5, 9,\n",
              "       5, 7, 5, 1, 4, 8, 8, 6, 1, 8, 3, 6, 7, 8, 2, 9, 9, 6, 0, 0, 4, 0,\n",
              "       6, 6, 6, 4, 4, 4, 0, 8, 3, 9, 7, 8, 9, 5, 2, 8, 5, 9, 2, 7, 9, 6,\n",
              "       9, 0, 5, 5, 3, 8, 6, 9, 3, 6, 6, 4, 7, 7, 6, 8, 9, 3, 7, 4, 0, 1,\n",
              "       5, 0, 9, 3, 1, 0, 9, 3, 8, 1, 1, 7, 3, 7, 9, 5, 0, 0, 3, 9, 1, 6,\n",
              "       4, 1, 3, 2, 0, 7, 3, 2, 3, 5, 4, 1, 2, 6, 8, 4, 2, 1, 3, 9, 8, 6,\n",
              "       5, 2, 9, 6, 1, 2, 5, 7, 9, 4, 1, 1, 5, 4, 9, 0, 5, 7, 3, 2, 8, 8,\n",
              "       1, 0, 7, 3, 8, 2, 1, 7, 0, 2, 4, 4, 2, 9, 7, 2, 4, 7, 0, 5, 3, 2,\n",
              "       4, 5, 1, 0, 9, 9, 9, 3, 3, 2, 8, 5, 4, 0, 7, 2, 4, 7, 7, 7, 5, 9,\n",
              "       0, 1, 3, 4, 7, 5, 5, 1, 9, 4, 5, 9, 6, 4, 9, 9, 7, 6, 7, 9, 4, 8,\n",
              "       4, 1, 6, 1, 0, 3, 4, 4, 6, 4, 6, 5, 9, 0, 3, 1, 9, 8, 3, 1, 2, 9,\n",
              "       2, 1, 0, 2, 2, 4, 0, 4, 7, 1, 2, 1, 5, 6, 2, 3, 6, 2, 4, 8, 6, 4,\n",
              "       2, 1, 9, 6, 7, 6, 0, 7, 7, 2, 3, 9, 9, 4, 8, 8, 2, 4, 3, 3, 6, 0,\n",
              "       6, 5, 2, 7, 0, 6, 1, 4, 3, 6, 5, 2, 4, 6, 3, 6, 2, 0, 9, 7, 5, 4,\n",
              "       4, 1, 3, 5, 8, 0, 4, 9, 0, 9, 3, 3, 5, 2, 4, 8, 7, 2, 6, 5, 6, 5,\n",
              "       2, 0, 7, 0, 9, 8, 7, 6, 8, 6, 8, 7, 2, 2, 5, 3, 1, 2, 8, 5, 2, 4,\n",
              "       4, 9, 8, 6, 6, 8, 3, 0, 0, 4, 9, 1, 1, 0, 1, 7, 1, 3, 6, 5, 0, 4,\n",
              "       8, 6, 0, 3, 1, 4, 3, 5, 3, 2, 4, 3])"
            ]
          },
          "execution_count": 28,
          "metadata": {},
          "output_type": "execute_result"
        }
      ],
      "source": [
        "y_pred"
      ]
    },
    {
      "cell_type": "markdown",
      "id": "2989d174",
      "metadata": {
        "id": "2989d174",
        "papermill": {
          "duration": 0.014888,
          "end_time": "2023-06-01T17:58:32.400713",
          "exception": false,
          "start_time": "2023-06-01T17:58:32.385825",
          "status": "completed"
        },
        "tags": []
      },
      "source": [
        "## **Model Accuracy**"
      ]
    },
    {
      "cell_type": "code",
      "execution_count": null,
      "id": "577787a0",
      "metadata": {
        "execution": {
          "iopub.execute_input": "2023-06-01T17:58:32.433680Z",
          "iopub.status.busy": "2023-06-01T17:58:32.433295Z",
          "iopub.status.idle": "2023-06-01T17:58:32.437840Z",
          "shell.execute_reply": "2023-06-01T17:58:32.436723Z"
        },
        "id": "577787a0",
        "papermill": {
          "duration": 0.023914,
          "end_time": "2023-06-01T17:58:32.439970",
          "exception": false,
          "start_time": "2023-06-01T17:58:32.416056",
          "status": "completed"
        },
        "tags": []
      },
      "outputs": [],
      "source": [
        "from sklearn.metrics import confusion_matrix, classification_report"
      ]
    },
    {
      "cell_type": "code",
      "execution_count": null,
      "id": "8b37536a",
      "metadata": {
        "execution": {
          "iopub.execute_input": "2023-06-01T17:58:32.472527Z",
          "iopub.status.busy": "2023-06-01T17:58:32.471816Z",
          "iopub.status.idle": "2023-06-01T17:58:32.479895Z",
          "shell.execute_reply": "2023-06-01T17:58:32.479117Z"
        },
        "id": "8b37536a",
        "outputId": "5b59545e-d17e-4047-d150-a4b47e4d379a",
        "papermill": {
          "duration": 0.026829,
          "end_time": "2023-06-01T17:58:32.482051",
          "exception": false,
          "start_time": "2023-06-01T17:58:32.455222",
          "status": "completed"
        },
        "tags": []
      },
      "outputs": [
        {
          "data": {
            "text/plain": [
              "array([[55,  0,  0,  0,  0,  0,  0,  0,  0,  0],\n",
              "       [ 0, 53,  0,  0,  0,  0,  0,  0,  1,  0],\n",
              "       [ 0,  0, 55,  0,  0,  0,  0,  0,  0,  0],\n",
              "       [ 0,  0,  0, 52,  0,  1,  0,  0,  1,  0],\n",
              "       [ 0,  0,  0,  0, 56,  0,  0,  0,  0,  1],\n",
              "       [ 0,  0,  0,  0,  0, 51,  0,  0,  0,  0],\n",
              "       [ 0,  2,  0,  0,  0,  0, 52,  0,  0,  0],\n",
              "       [ 0,  0,  0,  0,  0,  0,  0, 49,  0,  0],\n",
              "       [ 0,  1,  0,  1,  1,  0,  0,  1, 45,  1],\n",
              "       [ 0,  0,  0,  1,  0,  1,  0,  0,  0, 59]])"
            ]
          },
          "execution_count": 30,
          "metadata": {},
          "output_type": "execute_result"
        }
      ],
      "source": [
        "confusion_matrix(y_test, y_pred)"
      ]
    },
    {
      "cell_type": "code",
      "execution_count": null,
      "id": "1b30d33f",
      "metadata": {
        "execution": {
          "iopub.execute_input": "2023-06-01T17:58:32.515429Z",
          "iopub.status.busy": "2023-06-01T17:58:32.514690Z",
          "iopub.status.idle": "2023-06-01T17:58:32.528848Z",
          "shell.execute_reply": "2023-06-01T17:58:32.527601Z"
        },
        "id": "1b30d33f",
        "outputId": "c60a673b-0b12-4e6e-f7a0-09c58d48c582",
        "papermill": {
          "duration": 0.03379,
          "end_time": "2023-06-01T17:58:32.531763",
          "exception": false,
          "start_time": "2023-06-01T17:58:32.497973",
          "status": "completed"
        },
        "tags": []
      },
      "outputs": [
        {
          "name": "stdout",
          "output_type": "stream",
          "text": [
            "              precision    recall  f1-score   support\n",
            "\n",
            "           0       1.00      1.00      1.00        55\n",
            "           1       0.95      0.98      0.96        54\n",
            "           2       1.00      1.00      1.00        55\n",
            "           3       0.96      0.96      0.96        54\n",
            "           4       0.98      0.98      0.98        57\n",
            "           5       0.96      1.00      0.98        51\n",
            "           6       1.00      0.96      0.98        54\n",
            "           7       0.98      1.00      0.99        49\n",
            "           8       0.96      0.90      0.93        50\n",
            "           9       0.97      0.97      0.97        61\n",
            "\n",
            "    accuracy                           0.98       540\n",
            "   macro avg       0.98      0.98      0.98       540\n",
            "weighted avg       0.98      0.98      0.98       540\n",
            "\n"
          ]
        }
      ],
      "source": [
        "print(classification_report(y_test, y_pred))"
      ]
    },
    {
      "cell_type": "markdown",
      "id": "7ae571de",
      "metadata": {
        "id": "7ae571de",
        "papermill": {
          "duration": 0.015425,
          "end_time": "2023-06-01T17:58:32.563059",
          "exception": false,
          "start_time": "2023-06-01T17:58:32.547634",
          "status": "completed"
        },
        "tags": []
      },
      "source": [
        "## **Explanation**"
      ]
    },
    {
      "cell_type": "markdown",
      "id": "e0b35028",
      "metadata": {
        "id": "e0b35028",
        "papermill": {
          "duration": 0.015469,
          "end_time": "2023-06-01T17:58:32.594198",
          "exception": false,
          "start_time": "2023-06-01T17:58:32.578729",
          "status": "completed"
        },
        "tags": []
      },
      "source": [
        "***The \"Handwritten Digit Prediction - Classification Analysis\" project involves collecting and preprocessing a dataset of handwritten digit images, training a machine learning model using techniques like convolutional neural networks, evaluating the model's performance, and deploying it for practical use. The goal is to create a robust system that can accurately recognize and classify handwritten digits, enabling a wide range of applications in fields such as character recognition, digit-based data entry, and more.***"
      ]
    },
    {
      "cell_type": "markdown",
      "id": "12917b52",
      "metadata": {
        "id": "12917b52",
        "papermill": {
          "duration": 0.015395,
          "end_time": "2023-06-01T17:58:32.625512",
          "exception": false,
          "start_time": "2023-06-01T17:58:32.610117",
          "status": "completed"
        },
        "tags": []
      },
      "source": [
        "1.Collect a dataset of handwritten digit images.\n",
        "\n",
        "2.Preprocess the images by resizing, converting to grayscale, and applying normalization and denoising techniques.\n",
        "Split the dataset into a training set and a testing set.\n",
        "\n",
        "3.Train a machine learning model, such as a convolutional neural network (CNN), on the training set.\n",
        "\n",
        "4.Utilize cross-validation, regularization, and hyperparameter tuning to optimize the model's performance.\n",
        "\n",
        "5.Evaluate the model's accuracy on the testing set and measure its performance using metrics like precision, recall, and F1 score.\n",
        "\n",
        "6.Deploy the trained model into a production environment for real-time handwritten digit prediction.\n",
        "\n",
        "7.Integrate the model into a software system or create a user-friendly interface for users to input handwritten digits and receive accurate predictions.\n",
        "\n",
        "8.The ultimate goal is to create a robust system that accurately recognizes and classifies handwritten digits, enabling applications in character recognition and digit-based data entry."
      ]
    }
  ],
  "metadata": {
    "kernelspec": {
      "display_name": "Python 3",
      "language": "python",
      "name": "python3"
    },
    "language_info": {
      "codemirror_mode": {
        "name": "ipython",
        "version": 3
      },
      "file_extension": ".py",
      "mimetype": "text/x-python",
      "name": "python",
      "nbconvert_exporter": "python",
      "pygments_lexer": "ipython3",
      "version": "3.10.10"
    },
    "papermill": {
      "default_parameters": {},
      "duration": 16.927529,
      "end_time": "2023-06-01T17:58:33.663232",
      "environment_variables": {},
      "exception": null,
      "input_path": "__notebook__.ipynb",
      "output_path": "__notebook__.ipynb",
      "parameters": {},
      "start_time": "2023-06-01T17:58:16.735703",
      "version": "2.4.0"
    },
    "colab": {
      "provenance": []
    }
  },
  "nbformat": 4,
  "nbformat_minor": 5
}